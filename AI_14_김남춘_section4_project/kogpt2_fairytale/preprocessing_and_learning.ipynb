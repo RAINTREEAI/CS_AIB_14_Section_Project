{
  "cells": [
    {
      "cell_type": "code",
      "execution_count": null,
      "metadata": {
        "id": "78LJ0pVQ4Nzp"
      },
      "outputs": [],
      "source": [
        "!pip install transformers\n",
        "!pip install fastai"
      ]
    },
    {
      "cell_type": "code",
      "execution_count": 2,
      "metadata": {
        "id": "LFUCHslY4Nzp"
      },
      "outputs": [],
      "source": [
        "# 라이브러리 import\n",
        "import torch\n",
        "import transformers\n",
        "from transformers import AutoModelWithLMHead, PreTrainedTokenizerFast\n",
        "from fastai.text.all import *\n",
        "import fastai\n",
        "import re"
      ]
    },
    {
      "cell_type": "code",
      "source": [
        "# 구글 드라이브 마운트\n",
        "from google.colab import drive\n",
        "drive.mount('/content/drive')"
      ],
      "metadata": {
        "colab": {
          "base_uri": "https://localhost:8080/"
        },
        "id": "pQs0nCCa5pxx",
        "outputId": "013505c4-33e5-402b-9933-9509e04f6962"
      },
      "execution_count": 3,
      "outputs": [
        {
          "output_type": "stream",
          "name": "stdout",
          "text": [
            "Mounted at /content/drive\n"
          ]
        }
      ]
    },
    {
      "cell_type": "code",
      "execution_count": 13,
      "metadata": {
        "colab": {
          "base_uri": "https://localhost:8080/"
        },
        "id": "MPRXB7sC4Nzq",
        "outputId": "556570b8-ddcd-4284-8d4a-9b1ae4ad2058"
      },
      "outputs": [
        {
          "output_type": "stream",
          "name": "stderr",
          "text": [
            "The tokenizer class you load from this checkpoint is not the same type as the class this function is called from. It may result in unexpected tokenization. \n",
            "The tokenizer class you load from this checkpoint is 'GPT2Tokenizer'. \n",
            "The class this function is called from is 'PreTrainedTokenizerFast'.\n"
          ]
        },
        {
          "output_type": "stream",
          "name": "stdout",
          "text": [
            "겨울이었습니다.</d> 지난해 12월 31일 오후 2시쯤 서울 강남구 역삼동 한 아파트에서 A(40)씨가 숨진 채 발견됐다.\n",
            "A씨는 이날 오전 9시경 자신의 집에서 목을 매 스스로 목숨을 끊었다.\n",
            "경찰은 “아파트 관리사무소에서 ‘숨져 있는 사람이 있다’는 신고를 받고 출동했다”며 “아내가 평소 우울증을 앓아왔다는 유족 진술에 따라 자살로 추정된다”고 밝혔다.\n",
            "유족들은 경찰 조사 과정에서 “이웃이 자신을 무시하는 것 같아 극단적인 선택을 했다“고 말했다.\n",
            "한편 이 아파트는 최근 재건축 사업이 추진되면서 철거민들과 마찰을 빚었다. 고인의 빈소는 강남성모\n"
          ]
        }
      ],
      "source": [
        "# tokenizer 불러오기\n",
        "tokenizer = PreTrainedTokenizerFast.from_pretrained( \n",
        "    \"skt/kogpt2-base-v2\",\n",
        "  bos_token='</s>', eos_token='</s>', unk_token='<unk>',\n",
        "  pad_token='<pad>', mask_token='<mask>') \n",
        "\n",
        "# kogpt2 불러오기\n",
        "model = AutoModelWithLMHead.from_pretrained(\"skt/kogpt2-base-v2\")\n",
        "text = '겨울이었습니다.' # 동화 데이터 훈련 전 테스트\n",
        "input_ids = tokenizer.encode(text)\n",
        "gen_ids = model.generate(torch.tensor([input_ids]),\n",
        "                           max_length=128,\n",
        "                           repetition_penalty=2.0,\n",
        "                           pad_token_id=tokenizer.pad_token_id,\n",
        "                           eos_token_id=tokenizer.eos_token_id,\n",
        "                           bos_token_id=tokenizer.bos_token_id,\n",
        "                           use_cache=True\n",
        "                        )\n",
        "\n",
        "generated = tokenizer.decode(gen_ids[0,:].tolist())\n",
        "print(generated)"
      ]
    },
    {
      "cell_type": "code",
      "execution_count": 5,
      "metadata": {
        "id": "jpec65ko4Nzq"
      },
      "outputs": [],
      "source": [
        "# 동화 데이터 불러오기\n",
        "with open('/content/drive/MyDrive/kogpt2/fairytale/Total.txt', encoding='UTF8') as f:\n",
        "   lines = f.read()\n",
        "lines = \" \".join(lines.split())"
      ]
    },
    {
      "cell_type": "code",
      "execution_count": 6,
      "metadata": {
        "id": "0huajNPh4Nzr"
      },
      "outputs": [],
      "source": [
        "# 데이터 전처리 함수\n",
        "def PreProcess(text):\n",
        "    text = re.sub(pattern=r'\\([^)]*\\)', repl='', string=text) # 괄호안에 있는 내용 삭제(괄호 포함)\n",
        "    text = re.sub(pattern='Posted on [0-9]{4} [0-9]{2} [0-9]{2} .+ Posted in \\S+ \\s?', \\\n",
        "                  repl='', string=text)\n",
        "    text = re.sub(pattern='Posted on [0-9]{8} .+ Posted in \\S+ \\s?', \\\n",
        "                  repl='', string=text)\n",
        "    text = re.sub(pattern='[0-9]{4}년 [0-9]{,2}월 [0-9]{,2}일 [0-9]{,2}시 [0-9]{,2}분 [0-9]{,2}초', \\\n",
        "                  repl='', string=text)\n",
        "    text = re.sub(pattern='[0-9]{4}. [0-9]{,2}. [0-9]{,2}', \\\n",
        "                  repl='', string=text)\n",
        "    _filter = re.compile('[ㄱ-ㅣ]+')\n",
        "    text = _filter.sub('', text)\n",
        "    _filter = re.compile('[^가-힣 0-9 a-z A-Z \\. \\, \\' \\\" \\? \\!]+')\n",
        "    text = _filter.sub('', text)\n",
        "    text = re.sub(pattern=r'\\s+', repl=' ', string=text) # 다중공백 제거\n",
        "    return text"
      ]
    },
    {
      "cell_type": "code",
      "execution_count": 7,
      "metadata": {
        "id": "hzdQMO5D4Nzr"
      },
      "outputs": [],
      "source": [
        "# 전처리\n",
        "fairytale = PreProcess(lines)"
      ]
    },
    {
      "cell_type": "code",
      "execution_count": 8,
      "metadata": {
        "colab": {
          "base_uri": "https://localhost:8080/",
          "height": 72
        },
        "id": "_jBNdt7m4Nzs",
        "outputId": "19df1771-69d1-447c-c620-c22a6af2f7de"
      },
      "outputs": [
        {
          "output_type": "execute_result",
          "data": {
            "text/plain": [
              "'어느 어느 무척 아름다운 시골에. 물론 여름이고요. 들판의 밀밭들이 황금으로 물들었고, 귀리의 잔이삭들이 초록빛깔로 머금은, 푸르른 목초지들엔 풀들이 큰 작대기마냥 서 있는 시골요. 그곳에 기다란 붉은 색 발로 땅을 디디며 황새가 주변을 걸어 다니며 이집트 말로 뭐라뭐라 떠들고 있어요. 아마도 자신의 장모님에게서 이집트 말을 배웠다죠. 이곳 목초지들과 옥수수밭들을 빙 돌아가며 울창한 산림이 쳐져 있고요, 그 숲 한 가운데에 깊은 호수가 하나 있었어요. 그'"
            ],
            "application/vnd.google.colaboratory.intrinsic+json": {
              "type": "string"
            }
          },
          "metadata": {},
          "execution_count": 8
        }
      ],
      "source": [
        "# 데이터 확인\n",
        "fairytale[:256]"
      ]
    },
    {
      "cell_type": "code",
      "execution_count": 9,
      "metadata": {
        "id": "R8mW1dk74Nzs"
      },
      "outputs": [],
      "source": [
        "# 전처리가 완료된 데이터 tokenizer\n",
        "class TransformersTokenizer(Transform):\n",
        "   def __init__(self, tokenizer): self.tokenizer = tokenizer\n",
        "   def encodes(self, x): \n",
        "       toks = self.tokenizer.tokenize(x)\n",
        "       return tensor(self.tokenizer.convert_tokens_to_ids(toks))\n",
        "   def decodes(self, x): return TitledStr(self.tokenizer.decode(x.cpu().numpy()))\n",
        "\n",
        "# 데이테셋 나누기\n",
        "train=fairytale[:int(len(lines)*0.8)]\n",
        "test=fairytale[int(len(lines)*0.8):]\n",
        "splits = [[0],[1]]\n",
        "\n",
        "# init dataloader\n",
        "tls = TfmdLists([train,test], TransformersTokenizer(tokenizer), splits=splits, dl_type=LMDataLoader)\n",
        "batch,seq_len = 8,256\n",
        "dls = tls.dataloaders(bs=batch, seq_len=seq_len)"
      ]
    },
    {
      "cell_type": "code",
      "execution_count": 10,
      "metadata": {
        "colab": {
          "base_uri": "https://localhost:8080/"
        },
        "id": "MJB_Q2sG4Nzt",
        "outputId": "f6b54373-a8e6-42a1-fed2-d4dc9d05e286"
      },
      "outputs": [
        {
          "output_type": "execute_result",
          "data": {
            "text/plain": [
              "(1086968, 205972)"
            ]
          },
          "metadata": {},
          "execution_count": 10
        }
      ],
      "source": [
        "len(train), len(test)"
      ]
    },
    {
      "cell_type": "code",
      "execution_count": 11,
      "metadata": {
        "id": "fY2xZ3zx4Nzt",
        "colab": {
          "base_uri": "https://localhost:8080/",
          "height": 585
        },
        "outputId": "b9913314-07ca-4d14-b5f1-a9f0a4700522"
      },
      "outputs": [
        {
          "output_type": "display_data",
          "data": {
            "text/plain": [
              "<IPython.core.display.HTML object>"
            ],
            "text/html": [
              "\n",
              "<style>\n",
              "    /* Turns off some styling */\n",
              "    progress {\n",
              "        /* gets rid of default border in Firefox and Opera. */\n",
              "        border: none;\n",
              "        /* Needs to be in here for Safari polyfill so background images work as expected. */\n",
              "        background-size: auto;\n",
              "    }\n",
              "    progress:not([value]), progress:not([value])::-webkit-progress-bar {\n",
              "        background: repeating-linear-gradient(45deg, #7e7e7e, #7e7e7e 10px, #5c5c5c 10px, #5c5c5c 20px);\n",
              "    }\n",
              "    .progress-bar-interrupted, .progress-bar-interrupted::-webkit-progress-bar {\n",
              "        background: #F44336;\n",
              "    }\n",
              "</style>\n"
            ]
          },
          "metadata": {}
        },
        {
          "output_type": "display_data",
          "data": {
            "text/plain": [
              "<IPython.core.display.HTML object>"
            ],
            "text/html": []
          },
          "metadata": {}
        },
        {
          "output_type": "stream",
          "name": "stdout",
          "text": [
            "SuggestedLRs(valley=5.248074739938602e-05)\n"
          ]
        },
        {
          "output_type": "display_data",
          "data": {
            "text/plain": [
              "<IPython.core.display.HTML object>"
            ],
            "text/html": [
              "\n",
              "<style>\n",
              "    /* Turns off some styling */\n",
              "    progress {\n",
              "        /* gets rid of default border in Firefox and Opera. */\n",
              "        border: none;\n",
              "        /* Needs to be in here for Safari polyfill so background images work as expected. */\n",
              "        background-size: auto;\n",
              "    }\n",
              "    progress:not([value]), progress:not([value])::-webkit-progress-bar {\n",
              "        background: repeating-linear-gradient(45deg, #7e7e7e, #7e7e7e 10px, #5c5c5c 10px, #5c5c5c 20px);\n",
              "    }\n",
              "    .progress-bar-interrupted, .progress-bar-interrupted::-webkit-progress-bar {\n",
              "        background: #F44336;\n",
              "    }\n",
              "</style>\n"
            ]
          },
          "metadata": {}
        },
        {
          "output_type": "display_data",
          "data": {
            "text/plain": [
              "<IPython.core.display.HTML object>"
            ],
            "text/html": [
              "<table border=\"1\" class=\"dataframe\">\n",
              "  <thead>\n",
              "    <tr style=\"text-align: left;\">\n",
              "      <th>epoch</th>\n",
              "      <th>train_loss</th>\n",
              "      <th>valid_loss</th>\n",
              "      <th>perplexity</th>\n",
              "      <th>time</th>\n",
              "    </tr>\n",
              "  </thead>\n",
              "  <tbody>\n",
              "    <tr>\n",
              "      <td>0</td>\n",
              "      <td>5.101895</td>\n",
              "      <td>5.335279</td>\n",
              "      <td>207.530533</td>\n",
              "      <td>01:40</td>\n",
              "    </tr>\n",
              "  </tbody>\n",
              "</table>"
            ]
          },
          "metadata": {}
        },
        {
          "output_type": "display_data",
          "data": {
            "text/plain": [
              "<IPython.core.display.HTML object>"
            ],
            "text/html": [
              "\n",
              "<style>\n",
              "    /* Turns off some styling */\n",
              "    progress {\n",
              "        /* gets rid of default border in Firefox and Opera. */\n",
              "        border: none;\n",
              "        /* Needs to be in here for Safari polyfill so background images work as expected. */\n",
              "        background-size: auto;\n",
              "    }\n",
              "    progress:not([value]), progress:not([value])::-webkit-progress-bar {\n",
              "        background: repeating-linear-gradient(45deg, #7e7e7e, #7e7e7e 10px, #5c5c5c 10px, #5c5c5c 20px);\n",
              "    }\n",
              "    .progress-bar-interrupted, .progress-bar-interrupted::-webkit-progress-bar {\n",
              "        background: #F44336;\n",
              "    }\n",
              "</style>\n"
            ]
          },
          "metadata": {}
        },
        {
          "output_type": "display_data",
          "data": {
            "text/plain": [
              "<IPython.core.display.HTML object>"
            ],
            "text/html": [
              "<table border=\"1\" class=\"dataframe\">\n",
              "  <thead>\n",
              "    <tr style=\"text-align: left;\">\n",
              "      <th>epoch</th>\n",
              "      <th>train_loss</th>\n",
              "      <th>valid_loss</th>\n",
              "      <th>perplexity</th>\n",
              "      <th>time</th>\n",
              "    </tr>\n",
              "  </thead>\n",
              "  <tbody>\n",
              "    <tr>\n",
              "      <td>0</td>\n",
              "      <td>4.000365</td>\n",
              "      <td>4.866799</td>\n",
              "      <td>129.904404</td>\n",
              "      <td>01:41</td>\n",
              "    </tr>\n",
              "    <tr>\n",
              "      <td>1</td>\n",
              "      <td>3.832507</td>\n",
              "      <td>5.186745</td>\n",
              "      <td>178.885284</td>\n",
              "      <td>01:42</td>\n",
              "    </tr>\n",
              "    <tr>\n",
              "      <td>2</td>\n",
              "      <td>3.298854</td>\n",
              "      <td>5.274736</td>\n",
              "      <td>195.338882</td>\n",
              "      <td>01:43</td>\n",
              "    </tr>\n",
              "    <tr>\n",
              "      <td>3</td>\n",
              "      <td>2.579535</td>\n",
              "      <td>5.399806</td>\n",
              "      <td>221.363373</td>\n",
              "      <td>01:42</td>\n",
              "    </tr>\n",
              "    <tr>\n",
              "      <td>4</td>\n",
              "      <td>1.812985</td>\n",
              "      <td>5.605871</td>\n",
              "      <td>272.018677</td>\n",
              "      <td>01:43</td>\n",
              "    </tr>\n",
              "    <tr>\n",
              "      <td>5</td>\n",
              "      <td>1.312140</td>\n",
              "      <td>5.593851</td>\n",
              "      <td>268.768555</td>\n",
              "      <td>01:43</td>\n",
              "    </tr>\n",
              "  </tbody>\n",
              "</table>"
            ]
          },
          "metadata": {}
        },
        {
          "output_type": "display_data",
          "data": {
            "text/plain": [
              "<Figure size 432x288 with 1 Axes>"
            ],
            "image/png": "[encoded data removed]"
          },
          "metadata": {
            "needs_background": "light"
          }
        }
      ],
      "source": [
        "# 데이터 학습\n",
        "class DropOutput(Callback):\n",
        "  def after_pred(self): self.learn.pred = self.pred[0]\n",
        "      \n",
        "      \n",
        "learn = Learner(dls, model, loss_func=CrossEntropyLossFlat(), cbs=[DropOutput], metrics=Perplexity()).to_fp16()\n",
        "lr=learn.lr_find()\n",
        "print(lr)\n",
        "learn.fine_tune(6)"
      ]
    },
    {
      "cell_type": "code",
      "execution_count": 15,
      "metadata": {
        "id": "TY36txNo4Nzt",
        "colab": {
          "base_uri": "https://localhost:8080/",
          "height": 90
        },
        "outputId": "796b32a5-df9c-4023-9c24-d66f8b035371"
      },
      "outputs": [
        {
          "output_type": "execute_result",
          "data": {
            "text/plain": [
              "'겨울이었습니다. 그래서 그가 말했어요. \"그렇담 이리로 좀 와주련.\" 그치만 그는 워낙 높은 걸 몰랐고 그럼 어디를 가야 할지 모를 정도였죠. 결국 말은 죽을 때까지 마음껏 먹었지요, 하지만 곧 겨울이 다가오지 않기로 작정을 했기에 사람들은 여인을 짜증나게 놀라고 불렀답니다. 그러자 그녀가 소리쳤<unk>! \"이봐,\"라며 여인이 탄식하며 외치는 거예요함 질렀지만 소용없습니다만, 그래도 그녀는 남편을 계단 아래로 내려눕곤 거기서 꿈쩍도 하지 않았기에, 남편은 장례식 날 먼지나이 쓴 멋진 고양이 한 마리를 안고 태어났'"
            ],
            "application/vnd.google.colaboratory.intrinsic+json": {
              "type": "string"
            }
          },
          "metadata": {},
          "execution_count": 15
        }
      ],
      "source": [
        "# 학습된 모델 테스트\n",
        "prompt=\"겨울이었습니다.\"\n",
        "prompt_ids = tokenizer.encode(prompt)\n",
        "inp = tensor(prompt_ids)[None].cuda()\n",
        "preds = learn.model.generate(inp,\n",
        "                           max_length=128,\n",
        "                           pad_token_id=tokenizer.pad_token_id,\n",
        "                           eos_token_id=tokenizer.eos_token_id,\n",
        "                           bos_token_id=tokenizer.bos_token_id,\n",
        "                           repetition_penalty=2.0,       \n",
        "                           use_cache=True\n",
        "                          ) \n",
        "tokenizer.decode(preds[0].cpu().numpy())"
      ]
    },
    {
      "cell_type": "code",
      "execution_count": 16,
      "metadata": {
        "id": "myjFlHZd4Nzu"
      },
      "outputs": [],
      "source": [
        "# 학습된 모델 저장\n",
        "learn.model.save_pretrained(\"kogpt2fairytale\")"
      ]
    }
  ],
  "metadata": {
    "kernelspec": {
      "display_name": "Python 3.8.0 ('kogpt2')",
      "language": "python",
      "name": "python3"
    },
    "language_info": {
      "codemirror_mode": {
        "name": "ipython",
        "version": 3
      },
      "file_extension": ".py",
      "mimetype": "text/x-python",
      "name": "python",
      "nbconvert_exporter": "python",
      "pygments_lexer": "ipython3",
      "version": "3.8.13"
    },
    "orig_nbformat": 4,
    "vscode": {
      "interpreter": {
        "hash": "0b768efa434e8646f7d70dc227189bc498e036b4a5b84de89f55360bab816739"
      }
    },
    "colab": {
      "provenance": [],
      "collapsed_sections": []
    },
    "accelerator": "GPU"
  },
  "nbformat": 4,
  "nbformat_minor": 0
}